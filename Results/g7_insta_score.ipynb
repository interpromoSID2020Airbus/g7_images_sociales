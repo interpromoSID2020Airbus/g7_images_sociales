{
 "cells": [
  {
   "cell_type": "markdown",
   "metadata": {},
   "source": [
    "Created on Thu Jan 16 16:53:39 2020\n",
    "<br>\n",
    "Group 7\n",
    "<br>\n",
    "@authors: C.T.D., T.F.\n",
    "\n",
    "<h1>Group 7 - Images sociales<span class=\"tocSkip\"></span>\n",
    "    \n",
    "<br>    \n",
    "<center>Instagram results<center>"
   ]
  },
  {
   "cell_type": "markdown",
   "metadata": {
    "toc": true
   },
   "source": [
    "<h1>Table of Contents<span class=\"tocSkip\"></span></h1>\n",
    "<div class=\"toc\"><ul class=\"toc-item\"><li><span><a href=\"#Introduction\" data-toc-modified-id=\"Introduction-1\"><span class=\"toc-item-num\">1&nbsp;&nbsp;</span>Introduction</a></span></li><li><span><a href=\"#Environment\" data-toc-modified-id=\"Environment-2\"><span class=\"toc-item-num\">2&nbsp;&nbsp;</span>Environment</a></span><ul class=\"toc-item\"><li><span><a href=\"#Libraries\" data-toc-modified-id=\"Libraries-2.1\"><span class=\"toc-item-num\">2.1&nbsp;&nbsp;</span>Libraries</a></span></li><li><span><a href=\"#Parameters\" data-toc-modified-id=\"Parameters-2.2\"><span class=\"toc-item-num\">2.2&nbsp;&nbsp;</span>Parameters</a></span></li><li><span><a href=\"#Data\" data-toc-modified-id=\"Data-2.3\"><span class=\"toc-item-num\">2.3&nbsp;&nbsp;</span>Data</a></span></li></ul></li><li><span><a href=\"#Consistency-between-hashtag-and-prediciton\" data-toc-modified-id=\"Consistency-between-hashtag-and-prediciton-3\"><span class=\"toc-item-num\">3&nbsp;&nbsp;</span>Consistency between hashtag and prediciton</a></span></li></ul></div>"
   ]
  },
  {
   "cell_type": "markdown",
   "metadata": {},
   "source": [
    "# Introduction\n",
    "This notebook performs a very simple analysis on our predictions on Instagram images. Our goal was to see if the hashtags given with images were consistent with our predictions.\n",
    "\n",
    "According to our model viewpoint :\n",
    "* 83% of the images with #aicraftseat represent the inside of a plane.\n",
    "* 71% of the images with #aircreaftinterior represent a photo taken from the inside of a plane.\n",
    "\n",
    "The scores for the two others hashtags can't be considered significant, since our models for manufacturer detection are not robust.\n"
   ]
  },
  {
   "cell_type": "markdown",
   "metadata": {},
   "source": [
    "# Environment\n",
    "To ensure a proper functioning of this code file, `python 3.6` or later version is required.\n",
    "## Libraries"
   ]
  },
  {
   "cell_type": "code",
   "execution_count": 6,
   "metadata": {},
   "outputs": [],
   "source": [
    "import pandas as pd"
   ]
  },
  {
   "cell_type": "markdown",
   "metadata": {},
   "source": [
    "## Parameters"
   ]
  },
  {
   "cell_type": "code",
   "execution_count": 7,
   "metadata": {},
   "outputs": [],
   "source": [
    "project_path = './../'\n",
    "results_path = './'\n",
    "version_nb = str(4)"
   ]
  },
  {
   "cell_type": "markdown",
   "metadata": {},
   "source": [
    "## Data"
   ]
  },
  {
   "cell_type": "code",
   "execution_count": 8,
   "metadata": {},
   "outputs": [],
   "source": [
    "def read_insta_df(h: str, version_nb: int, path: str) -> pd.DataFrame:\n",
    "    df = pd.read_csv(path + 'g7_pred_INSTAGRAM_' + str(h) + '_' + str(version_nb) + '.csv', sep=';')\n",
    "    return df"
   ]
  },
  {
   "cell_type": "code",
   "execution_count": 9,
   "metadata": {},
   "outputs": [],
   "source": [
    "df_airbus = read_insta_df('airbus', 4, results_path)\n",
    "df_aircraftinterior = read_insta_df('aircraftinterior', 4, results_path)\n",
    "df_aircraftseat = read_insta_df('aircraftseat', 4, results_path)\n",
    "df_boeing = read_insta_df('boeing', 4, results_path)"
   ]
  },
  {
   "cell_type": "markdown",
   "metadata": {},
   "source": [
    "# Consistency between hashtag and prediciton"
   ]
  },
  {
   "cell_type": "code",
   "execution_count": 10,
   "metadata": {},
   "outputs": [
    {
     "name": "stdout",
     "output_type": "stream",
     "text": [
      "Relevant #airbus:\n",
      "0.437753%\n",
      "\n",
      "Relevant #aircaftinterior (classified as \"Int\", \"Meal\" or \"Ext_Int\"):\n",
      "0.71708%\n",
      "\n",
      "Relevant #aircraftseat (classified as \"Int\"):\n",
      "0.830271%\n",
      "\n",
      "Relevant #boeing:\n",
      "0.472596%\n",
      "\n"
     ]
    }
   ],
   "source": [
    "# airbus\n",
    "print('Relevant #airbus:')\n",
    "print(str(round(len(\n",
    "    df_airbus[df_airbus['manufacturer'] == 'Airbus']) / len(df_airbus), 6)) + '%\\n')\n",
    "\n",
    "# aircraftinterior\n",
    "print('Relevant #aircaftinterior (classified as \"Int\", \"Meal\" or \"Ext_Int\"):')\n",
    "print(str(round(len(\n",
    "    df_aircraftinterior[df_aircraftinterior['view'] != 'Ext']) / len(df_aircraftinterior), 6)) + '%\\n')\n",
    "\n",
    "# aircraftseat\n",
    "print('Relevant #aircraftseat (classified as \"Int\"):')\n",
    "print(str(round(len(\n",
    "    df_aircraftseat[df_aircraftseat[\"view\"] == \"Int\"]) / len(df_aircraftseat), 6)) + '%\\n')\n",
    "\n",
    "# boeing\n",
    "print('Relevant #boeing:')\n",
    "print(str(round(len(\n",
    "    df_boeing[df_boeing['manufacturer'] == 'Boeing']) / len(df_boeing), 6)) + '%\\n')"
   ]
  },
  {
   "cell_type": "code",
   "execution_count": null,
   "metadata": {},
   "outputs": [],
   "source": []
  }
 ],
 "metadata": {
  "kernelspec": {
   "display_name": "Python 3",
   "language": "python",
   "name": "python3"
  },
  "language_info": {
   "codemirror_mode": {
    "name": "ipython",
    "version": 3
   },
   "file_extension": ".py",
   "mimetype": "text/x-python",
   "name": "python",
   "nbconvert_exporter": "python",
   "pygments_lexer": "ipython3",
   "version": "3.7.4"
  },
  "toc": {
   "base_numbering": 1,
   "nav_menu": {},
   "number_sections": true,
   "sideBar": true,
   "skip_h1_title": false,
   "title_cell": "Table of Contents",
   "title_sidebar": "Contents",
   "toc_cell": true,
   "toc_position": {},
   "toc_section_display": true,
   "toc_window_display": false
  }
 },
 "nbformat": 4,
 "nbformat_minor": 2
}
